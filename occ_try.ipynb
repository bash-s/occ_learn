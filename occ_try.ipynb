{
  "cells": [
    {
      "cell_type": "code",
      "execution_count": null,
      "metadata": {
        "id": "4kW1i6rIMa65"
      },
      "outputs": [],
      "source": [
        "!git clone https://github.com/autonomousvision/occupancy_networks.git"
      ]
    },
    {
      "cell_type": "code",
      "execution_count": null,
      "metadata": {
        "id": "Y9DFq1wvOFIW"
      },
      "outputs": [],
      "source": [
        "!wget -c https://repo.continuum.io/miniconda/Miniconda3-4.6.14-Linux-x86_64.sh\n",
        "!chmod +x Miniconda3-4.6.14-Linux-x86_64.sh\n",
        "!bash ./Miniconda3-4.6.14-Linux-x86_64.sh -b -f -p /usr/local"
      ]
    },
    {
      "cell_type": "code",
      "execution_count": null,
      "metadata": {
        "colab": {
          "base_uri": "https://localhost:8080/",
          "height": 35
        },
        "id": "vm5r6kvzQWbD",
        "outputId": "b89a9353-fd08-4651-f2d2-027e9f8fc009"
      },
      "outputs": [
        {
          "output_type": "execute_result",
          "data": {
            "text/plain": [
              "'/env/python'"
            ],
            "application/vnd.google.colaboratory.intrinsic+json": {
              "type": "string"
            }
          },
          "metadata": {},
          "execution_count": 3
        }
      ],
      "source": [
        "import os\n",
        "os.environ.pop('PYTHONPATH', None)"
      ]
    },
    {
      "cell_type": "code",
      "execution_count": null,
      "metadata": {
        "id": "36mVneD_PdoT"
      },
      "outputs": [],
      "source": [
        "import sys\n",
        "sys.path.append('/usr/local/lib/python3.7/site-packages')"
      ]
    },
    {
      "cell_type": "code",
      "execution_count": null,
      "metadata": {
        "colab": {
          "base_uri": "https://localhost:8080/"
        },
        "id": "EXmC-Ot4TNKc",
        "outputId": "bab85848-9a21-4790-a659-e0256a86e20f"
      },
      "outputs": [
        {
          "output_type": "stream",
          "name": "stdout",
          "text": [
            "conda 4.6.14\n"
          ]
        }
      ],
      "source": [
        "!conda --version"
      ]
    },
    {
      "cell_type": "code",
      "execution_count": null,
      "metadata": {
        "id": "Ev58EUXoPqi0"
      },
      "outputs": [],
      "source": [
        "!conda config --add channels conda-forge\n",
        "!conda config --add channels pytorch\n",
        "!conda create -n mesh_funcspace python=3.6.7 cython=0.29.2 imageio=2.4.1 numpy=1.15.4 numpy-base=1.15.4 matplotlib=3.0.3 matplotlib-base=3.0.3 pandas=0.23.4 pillow=5.3.0 pyembree=0.1.4 pytest=4.0.2  pyyaml=3.13 scikit-image=0.14.1 scipy=1.1.0 tensorboardx=1.4 torchvision=0.2.1 tqdm=4.28.1 trimesh=2.37.7 -y\n"
      ]
    },
    {
      "cell_type": "code",
      "source": [
        "!/usr/local/envs/mesh_funcspace/bin/python --version"
      ],
      "metadata": {
        "colab": {
          "base_uri": "https://localhost:8080/"
        },
        "id": "0AQwcXlRnymO",
        "outputId": "3f07c200-5185-4640-c100-53ba1c45bd54"
      },
      "execution_count": null,
      "outputs": [
        {
          "output_type": "stream",
          "name": "stdout",
          "text": [
            "Python 3.6.7\n"
          ]
        }
      ]
    },
    {
      "cell_type": "code",
      "source": [
        "!conda run -n mesh_funcspace pip install ipykernel==5.5.5 plyfile"
      ],
      "metadata": {
        "id": "HeMGiDKyjap1"
      },
      "execution_count": null,
      "outputs": []
    },
    {
      "cell_type": "code",
      "source": [
        "# try:\n",
        "#     from setuptools import setup\n",
        "# except ImportError:\n",
        "#     from distutils.core import setup\n",
        "# from distutils.extension import Extension\n",
        "# from Cython.Build import cythonize\n",
        "# from torch.utils.cpp_extension import BuildExtension, CppExtension, CUDAExtension\n",
        "# import numpy\n",
        "# import os\n",
        "# os.chdir('/content/occupancy_networks')  # 替换为你的项目根目录\n",
        "\n",
        "\n",
        "\n",
        "# # Get the numpy include directory.\n",
        "# numpy_include_dir = numpy.get_include()\n",
        "\n",
        "# # Extensions\n",
        "# # pykdtree (kd tree)\n",
        "# pykdtree = Extension(\n",
        "#     'im2mesh.utils.libkdtree.pykdtree.kdtree',\n",
        "#     sources=[\n",
        "#         '/content/occupancy_networks/im2mesh/utils/libkdtree/pykdtree/kdtree.c',\n",
        "#         '/content/occupancy_networks/im2mesh/utils/libkdtree/pykdtree/_kdtree_core.c'\n",
        "#     ],\n",
        "#     language='c',\n",
        "#     extra_compile_args=['-std=c99', '-O3', '-fopenmp'],\n",
        "#     extra_link_args=['-lgomp'],\n",
        "#     include_dirs=[numpy_include_dir]\n",
        "# )\n",
        "\n",
        "# # mcubes (marching cubes algorithm)\n",
        "# mcubes_module = Extension(\n",
        "#     'im2mesh.utils.libmcubes.mcubes',\n",
        "#     sources=[\n",
        "#         '/content/occupancy_networks/im2mesh/utils/libmcubes/mcubes.pyx',\n",
        "#         '/content/occupancy_networks/im2mesh/utils/libmcubes/pywrapper.cpp',\n",
        "#         '/content/occupancy_networks/im2mesh/utils/libmcubes/marchingcubes.cpp'\n",
        "#     ],\n",
        "#     language='c++',\n",
        "#     extra_compile_args=['-std=c++11'],\n",
        "#     include_dirs=[numpy_include_dir]\n",
        "# )\n",
        "\n",
        "# # triangle hash (efficient mesh intersection)\n",
        "# triangle_hash_module = Extension(\n",
        "#     'im2mesh.utils.libmesh.triangle_hash',\n",
        "#     sources=[\n",
        "#         '/content/occupancy_networks/im2mesh/utils/libmesh/triangle_hash.pyx'\n",
        "#     ],\n",
        "#     libraries=['m'],  # Unix-like specific\n",
        "#     include_dirs=[numpy_include_dir]\n",
        "# )\n",
        "\n",
        "# # mise (efficient mesh extraction)\n",
        "# mise_module = Extension(\n",
        "#     'im2mesh.utils.libmise.mise',\n",
        "#     sources=[\n",
        "#         '/content/occupancy_networks/im2mesh/utils/libmise/mise.pyx'\n",
        "#     ],\n",
        "#     include_dirs=[numpy_include_dir]\n",
        "# )\n",
        "\n",
        "# # simplify (efficient mesh simplification)\n",
        "# simplify_mesh_module = Extension(\n",
        "#     'im2mesh.utils.libsimplify.simplify_mesh',\n",
        "#     sources=[\n",
        "#         '/content/occupancy_networks/im2mesh/utils/libsimplify/simplify_mesh.pyx'\n",
        "#     ],\n",
        "#     include_dirs=[numpy_include_dir]\n",
        "# )\n",
        "\n",
        "# # voxelization (efficient mesh voxelization)\n",
        "# voxelize_module = Extension(\n",
        "#     'im2mesh.utils.libvoxelize.voxelize',\n",
        "#     sources=[\n",
        "#         '/content/occupancy_networks/im2mesh/utils/libvoxelize/voxelize.pyx'\n",
        "#     ],\n",
        "#     libraries=['m'],  # Unix-like specific\n",
        "#     include_dirs=[numpy_include_dir]\n",
        "# )\n",
        "\n",
        "# # DMC extensions\n",
        "# dmc_pred2mesh_module = CppExtension(\n",
        "#     'im2mesh.dmc.ops.cpp_modules.pred2mesh',\n",
        "#     sources=[\n",
        "#         '/content/occupancy_networks/im2mesh/dmc/ops/cpp_modules/pred_to_mesh_.cpp',\n",
        "#     ],\n",
        "#     include_dirs=[numpy_include_dir]\n",
        "# )\n",
        "\n",
        "# dmc_cuda_module = CUDAExtension(\n",
        "#     'im2mesh.dmc.ops.cuda_ext',\n",
        "#     sources=[\n",
        "#         '/content/occupancy_networks/im2mesh/dmc/ops/src/extension.cpp',\n",
        "#         '/content/occupancy_networks/im2mesh/dmc/ops/src/curvature_constraint_kernel.cu',\n",
        "#         '/content/occupancy_networks/im2mesh/dmc/ops/src/grid_pooling_kernel.cu',\n",
        "#         '/content/occupancy_networks/im2mesh/dmc/ops/src/occupancy_to_topology_kernel.cu',\n",
        "#         '/content/occupancy_networks/im2mesh/dmc/ops/src/occupancy_connectivity_kernel.cu',\n",
        "#         '/content/occupancy_networks/im2mesh/dmc/ops/src/point_triangle_distance_kernel.cu',\n",
        "#     ],\n",
        "#     include_dirs=[numpy_include_dir]\n",
        "# )\n",
        "\n",
        "# # Gather all extension modules\n",
        "# ext_modules = [\n",
        "#     pykdtree,\n",
        "#     mcubes_module,\n",
        "#     triangle_hash_module,\n",
        "#     mise_module,\n",
        "#     simplify_mesh_module,\n",
        "#     voxelize_module,\n",
        "#     dmc_pred2mesh_module,\n",
        "#     dmc_cuda_module,\n",
        "# ]\n",
        "\n",
        "# setup(\n",
        "#     ext_modules=cythonize(ext_modules),\n",
        "#     cmdclass={\n",
        "#         'build_ext': BuildExtension\n",
        "#     }\n",
        "# )\n"
      ],
      "metadata": {
        "id": "XAa8koRenBEF"
      },
      "execution_count": null,
      "outputs": []
    },
    {
      "cell_type": "code",
      "source": [
        "!/usr/local/envs/mesh_funcspace/bin/python /content/occupancy_networks/setup.py build_ext --inplace"
      ],
      "metadata": {
        "id": "giuIDeyfoRKu"
      },
      "execution_count": null,
      "outputs": []
    },
    {
      "cell_type": "code",
      "source": [
        "#编译_cuda_ext\n",
        "# import os\n",
        "# os.chdir('/content/occupancy_networks/im2mesh/dmc/ops')\n",
        "!/usr/local/envs/mesh_funcspace/bin/python /content/occupancy_networks/im2mesh/dmc/ops/setup.py build_ext --inplace"
      ],
      "metadata": {
        "id": "mK9ZJ6dpAjR6"
      },
      "execution_count": null,
      "outputs": []
    },
    {
      "cell_type": "code",
      "source": [
        "!conda list -n mesh_funcspace"
      ],
      "metadata": {
        "id": "cr1difKt1oQ_"
      },
      "execution_count": null,
      "outputs": []
    },
    {
      "cell_type": "code",
      "source": [
        "#!/usr/local/envs/mesh_funcspace/bin/python\n",
        "import torch+\n",
        "if torch.cuda.is_available():\n",
        "    cuda_version = torch.version.cuda\n",
        "    print(cuda_version)\n",
        "else:\n",
        "    print('CUDA 不可用')\n",
        "\n"
      ],
      "metadata": {
        "id": "eeUJZNoSwmup"
      },
      "execution_count": null,
      "outputs": []
    },
    {
      "cell_type": "code",
      "source": [
        "# import os\n",
        "# os.chdir('/content/occupancy_networks')\n",
        "!/usr/local/envs/mesh_funcspace/bin/python /content/occupancy_networks/generate.py /content/occupancy_networks/configs/demo.yaml"
      ],
      "metadata": {
        "colab": {
          "base_uri": "https://localhost:8080/"
        },
        "id": "7taXiDb3yLsL",
        "outputId": "80c003f5-6fc9-4f89-b8a7-5518a5eca279"
      },
      "execution_count": null,
      "outputs": [
        {
          "output_type": "stream",
          "name": "stdout",
          "text": [
            "Downloading: \"https://download.pytorch.org/models/resnet18-5c106cde.pth\" to /root/.cache/torch/hub/checkpoints/resnet18-5c106cde.pth\n",
            "\r  0% 0.00/44.7M [00:00<?, ?B/s]\r 55% 24.7M/44.7M [00:00<00:00, 259MB/s]\r100% 44.7M/44.7M [00:00<00:00, 265MB/s]\n",
            "https://s3.eu-central-1.amazonaws.com/avg-projects/occupancy_networks/models/onet_img2mesh_3-f786b04a.pt\n",
            "=> Loading checkpoint from url...\n",
            "Downloading: \"https://s3.eu-central-1.amazonaws.com/avg-projects/occupancy_networks/models/onet_img2mesh_3-f786b04a.pt\" to /root/.cache/torch/hub/checkpoints/onet_img2mesh_3-f786b04a.pt\n",
            "100% 154M/154M [00:11<00:00, 14.1MB/s]\n",
            "Warning: generator does not support pointcloud generation.\n",
            "  0% 0/9 [00:00<?, ?it/s]\n",
            "  0% 0/30 [00:00<?, ?it/s]\u001b[A\n",
            "  3% 1/30 [00:00<00:02,  9.94it/s]\u001b[A\n",
            " 10% 3/30 [00:00<00:02, 11.18it/s]\u001b[A\n",
            " 17% 5/30 [00:00<00:01, 12.58it/s]\u001b[A\n",
            " 27% 8/30 [00:00<00:01, 14.80it/s]\u001b[A\n",
            " 37% 11/30 [00:00<00:01, 16.93it/s]\u001b[A\n",
            " 47% 14/30 [00:00<00:00, 18.95it/s]\u001b[A\n",
            " 57% 17/30 [00:00<00:00, 20.69it/s]\u001b[A\n",
            " 67% 20/30 [00:00<00:00, 21.90it/s]\u001b[A\n",
            " 77% 23/30 [00:01<00:00, 23.06it/s]\u001b[A\n",
            " 87% 26/30 [00:01<00:00, 23.95it/s]\u001b[A\n",
            " 97% 29/30 [00:01<00:00, 24.60it/s]\u001b[A\n",
            " 11% 1/9 [00:02<00:22,  2.79s/it]\n",
            "  0% 0/30 [00:00<?, ?it/s]\u001b[A\n",
            " 10% 3/30 [00:00<00:01, 26.38it/s]\u001b[A\n",
            " 20% 6/30 [00:00<00:00, 26.36it/s]\u001b[A\n",
            " 30% 9/30 [00:00<00:00, 26.31it/s]\u001b[A\n",
            " 40% 12/30 [00:00<00:00, 26.22it/s]\u001b[A\n",
            " 50% 15/30 [00:00<00:00, 26.07it/s]\u001b[A\n",
            " 60% 18/30 [00:00<00:00, 26.10it/s]\u001b[A\n",
            " 70% 21/30 [00:00<00:00, 26.12it/s]\u001b[A\n",
            " 80% 24/30 [00:00<00:00, 26.08it/s]\u001b[A\n",
            " 90% 27/30 [00:01<00:00, 26.01it/s]\u001b[A\n",
            "100% 30/30 [00:01<00:00, 26.01it/s]\u001b[A\n",
            " 22% 2/9 [00:04<00:17,  2.48s/it]\n",
            "  0% 0/30 [00:00<?, ?it/s]\u001b[A\n",
            " 10% 3/30 [00:00<00:01, 26.39it/s]\u001b[A\n",
            " 20% 6/30 [00:00<00:00, 26.26it/s]\u001b[A\n",
            " 30% 9/30 [00:00<00:00, 25.97it/s]\u001b[A\n",
            " 40% 12/30 [00:00<00:00, 25.62it/s]\u001b[A\n",
            " 50% 15/30 [00:00<00:00, 25.77it/s]\u001b[A\n",
            " 60% 18/30 [00:00<00:00, 25.86it/s]\u001b[A\n",
            " 70% 21/30 [00:00<00:00, 25.87it/s]\u001b[A\n",
            " 80% 24/30 [00:00<00:00, 25.75it/s]\u001b[A\n",
            " 90% 27/30 [00:01<00:00, 25.84it/s]\u001b[A\n",
            "100% 30/30 [00:01<00:00, 25.85it/s]\u001b[A\n",
            " 33% 3/9 [00:06<00:13,  2.25s/it]\n",
            "  0% 0/30 [00:00<?, ?it/s]\u001b[A\n",
            " 10% 3/30 [00:00<00:01, 26.31it/s]\u001b[A\n",
            " 20% 6/30 [00:00<00:00, 26.18it/s]\u001b[A\n",
            " 30% 9/30 [00:00<00:00, 26.14it/s]\u001b[A\n",
            " 40% 12/30 [00:00<00:00, 25.54it/s]\u001b[A\n",
            " 50% 15/30 [00:00<00:00, 25.73it/s]\u001b[A\n",
            " 60% 18/30 [00:00<00:00, 25.84it/s]\u001b[A\n",
            " 70% 21/30 [00:00<00:00, 25.90it/s]\u001b[A\n",
            " 80% 24/30 [00:00<00:00, 25.73it/s]\u001b[A\n",
            " 90% 27/30 [00:01<00:00, 25.77it/s]\u001b[A\n",
            "100% 30/30 [00:01<00:00, 25.78it/s]\u001b[A\n",
            " 44% 4/9 [00:08<00:10,  2.18s/it]\n",
            "  0% 0/30 [00:00<?, ?it/s]\u001b[A\n",
            " 10% 3/30 [00:00<00:01, 26.50it/s]\u001b[A\n",
            " 20% 6/30 [00:00<00:00, 25.86it/s]\u001b[A\n",
            " 30% 9/30 [00:00<00:00, 25.98it/s]\u001b[A\n",
            " 40% 12/30 [00:00<00:00, 26.03it/s]\u001b[A\n",
            " 50% 15/30 [00:00<00:00, 26.11it/s]\u001b[A\n",
            " 60% 18/30 [00:00<00:00, 26.14it/s]\u001b[A\n",
            " 70% 21/30 [00:00<00:00, 25.98it/s]\u001b[A\n",
            " 80% 24/30 [00:00<00:00, 25.32it/s]\u001b[A\n",
            " 90% 27/30 [00:01<00:00, 25.04it/s]\u001b[A\n",
            "100% 30/30 [00:01<00:00, 24.87it/s]\u001b[A\n",
            " 56% 5/9 [00:10<00:08,  2.05s/it]\n",
            "  0% 0/30 [00:00<?, ?it/s]\u001b[A\n",
            " 10% 3/30 [00:00<00:01, 25.83it/s]\u001b[A\n",
            " 20% 6/30 [00:00<00:00, 25.54it/s]\u001b[A\n",
            " 30% 9/30 [00:00<00:00, 25.45it/s]\u001b[A\n",
            " 40% 12/30 [00:00<00:00, 25.19it/s]\u001b[A\n",
            " 50% 15/30 [00:00<00:00, 24.94it/s]\u001b[A\n",
            " 60% 18/30 [00:00<00:00, 24.87it/s]\u001b[A\n",
            " 70% 21/30 [00:00<00:00, 24.91it/s]\u001b[A\n",
            " 80% 24/30 [00:00<00:00, 24.84it/s]\u001b[A\n",
            " 90% 27/30 [00:01<00:00, 24.88it/s]\u001b[A\n",
            "100% 30/30 [00:01<00:00, 24.60it/s]\u001b[A\n",
            " 67% 6/9 [00:12<00:06,  2.08s/it]\n",
            "  0% 0/30 [00:00<?, ?it/s]\u001b[A\n",
            " 10% 3/30 [00:00<00:01, 26.36it/s]\u001b[A\n",
            " 20% 6/30 [00:00<00:00, 26.27it/s]\u001b[A\n",
            " 30% 9/30 [00:00<00:00, 26.16it/s]\u001b[A\n",
            " 40% 12/30 [00:00<00:00, 26.16it/s]\u001b[A\n",
            " 50% 15/30 [00:00<00:00, 26.04it/s]\u001b[A\n",
            " 60% 18/30 [00:00<00:00, 26.06it/s]\u001b[A\n",
            " 70% 21/30 [00:00<00:00, 26.02it/s]\u001b[A\n",
            " 80% 24/30 [00:00<00:00, 26.00it/s]\u001b[A\n",
            " 90% 27/30 [00:01<00:00, 25.98it/s]\u001b[A\n",
            "100% 30/30 [00:01<00:00, 25.99it/s]\u001b[A\n",
            " 78% 7/9 [00:13<00:03,  1.95s/it]\n",
            "  0% 0/30 [00:00<?, ?it/s]\u001b[A\n",
            " 10% 3/30 [00:00<00:01, 26.39it/s]\u001b[A\n",
            " 20% 6/30 [00:00<00:00, 26.23it/s]\u001b[A\n",
            " 30% 9/30 [00:00<00:00, 26.13it/s]\u001b[A\n",
            " 40% 12/30 [00:00<00:00, 26.11it/s]\u001b[A\n",
            " 50% 15/30 [00:00<00:00, 26.08it/s]\u001b[A\n",
            " 60% 18/30 [00:00<00:00, 26.00it/s]\u001b[A\n",
            " 70% 21/30 [00:00<00:00, 26.05it/s]\u001b[A\n",
            " 80% 24/30 [00:00<00:00, 25.79it/s]\u001b[A\n",
            " 90% 27/30 [00:01<00:00, 25.78it/s]\u001b[A\n",
            "100% 30/30 [00:01<00:00, 25.77it/s]\u001b[A\n",
            " 89% 8/9 [00:15<00:01,  1.89s/it]\n",
            "  0% 0/30 [00:00<?, ?it/s]\u001b[A\n",
            " 10% 3/30 [00:00<00:01, 26.03it/s]\u001b[A\n",
            " 20% 6/30 [00:00<00:00, 25.54it/s]\u001b[A\n",
            " 30% 9/30 [00:00<00:00, 25.65it/s]\u001b[A\n",
            " 40% 12/30 [00:00<00:00, 25.68it/s]\u001b[A\n",
            " 50% 15/30 [00:00<00:00, 25.74it/s]\u001b[A\n",
            " 60% 18/30 [00:00<00:00, 25.78it/s]\u001b[A\n",
            " 70% 21/30 [00:00<00:00, 25.85it/s]\u001b[A\n",
            " 80% 24/30 [00:00<00:00, 25.83it/s]\u001b[A\n",
            " 90% 27/30 [00:01<00:00, 25.85it/s]\u001b[A\n",
            "100% 30/30 [00:01<00:00, 25.80it/s]\u001b[A\n",
            "100% 9/9 [00:17<00:00,  1.82s/it]\n",
            "Timings [s]:\n",
            "               mesh  time (encode inputs)       ...         time (refine)  time (simplify)\n",
            "class name                                      ...                                       \n",
            "n/a         1.88319              0.108909       ...              1.185158         0.055165\n",
            "mean        1.88319              0.108909       ...              1.185158         0.055165\n",
            "\n",
            "[2 rows x 6 columns]\n"
          ]
        }
      ]
    }
  ],
  "metadata": {
    "colab": {
      "provenance": [],
      "gpuType": "T4"
    },
    "kernelspec": {
      "display_name": "Python 3",
      "name": "python3"
    },
    "language_info": {
      "name": "python"
    },
    "accelerator": "GPU"
  },
  "nbformat": 4,
  "nbformat_minor": 0
}